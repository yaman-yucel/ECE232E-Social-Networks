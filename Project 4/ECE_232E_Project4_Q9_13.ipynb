{
  "nbformat": 4,
  "nbformat_minor": 0,
  "metadata": {
    "colab": {
      "provenance": [],
      "collapsed_sections": [
        "JvCn-EZ0J_wE",
        "FvUqoQC6J_t_",
        "ec71Lq0nJ_uA"
      ]
    },
    "kernelspec": {
      "name": "python3",
      "display_name": "Python 3"
    },
    "language_info": {
      "name": "python"
    }
  },
  "cells": [
    {
      "cell_type": "markdown",
      "source": [
        "# Setup"
      ],
      "metadata": {
        "id": "4anD8dw7KOBD"
      }
    },
    {
      "cell_type": "code",
      "source": [
        "!pip install igraph"
      ],
      "metadata": {
        "colab": {
          "base_uri": "https://localhost:8080/"
        },
        "id": "ytSUlj25KXxi",
        "outputId": "c8a096f0-1bdd-469a-a1fa-aa2741ea2007"
      },
      "execution_count": null,
      "outputs": [
        {
          "output_type": "stream",
          "name": "stdout",
          "text": [
            "Looking in indexes: https://pypi.org/simple, https://us-python.pkg.dev/colab-wheels/public/simple/\n",
            "Collecting igraph\n",
            "  Downloading igraph-0.10.4-cp39-abi3-manylinux_2_17_x86_64.manylinux2014_x86_64.whl (3.3 MB)\n",
            "\u001b[2K     \u001b[90m━━━━━━━━━━━━━━━━━━━━━━━━━━━━━━━━━━━━━━━━\u001b[0m \u001b[32m3.3/3.3 MB\u001b[0m \u001b[31m16.1 MB/s\u001b[0m eta \u001b[36m0:00:00\u001b[0m\n",
            "\u001b[?25hCollecting texttable>=1.6.2 (from igraph)\n",
            "  Downloading texttable-1.6.7-py2.py3-none-any.whl (10 kB)\n",
            "Installing collected packages: texttable, igraph\n",
            "Successfully installed igraph-0.10.4 texttable-1.6.7\n"
          ]
        }
      ]
    },
    {
      "cell_type": "code",
      "source": [
        "from igraph import *\n",
        "import json\n",
        "import random\n",
        "import numpy as np\n",
        "from numpy import linalg \n",
        "import itertools\n",
        "import matplotlib.pyplot as plt\n",
        "from scipy.spatial import Delaunay  # needed for triangulation\n",
        "import os\n",
        "import pandas as pd\n",
        "from copy import deepcopy"
      ],
      "metadata": {
        "id": "7WNfuWzYKNZf"
      },
      "execution_count": null,
      "outputs": []
    },
    {
      "cell_type": "code",
      "source": [
        "random.seed(2022)\n",
        "np.random.seed(2022)"
      ],
      "metadata": {
        "id": "6v6vGbKHKQWm"
      },
      "execution_count": null,
      "outputs": []
    },
    {
      "cell_type": "code",
      "source": [
        "!pip install pycairo"
      ],
      "metadata": {
        "colab": {
          "base_uri": "https://localhost:8080/"
        },
        "id": "gIuzZECNX_ld",
        "outputId": "7c9f0458-64e0-4c86-d717-d812a275323e"
      },
      "execution_count": null,
      "outputs": [
        {
          "output_type": "stream",
          "name": "stdout",
          "text": [
            "Looking in indexes: https://pypi.org/simple, https://us-python.pkg.dev/colab-wheels/public/simple/\n",
            "Collecting pycairo\n",
            "  Using cached pycairo-1.23.0.tar.gz (344 kB)\n",
            "  Installing build dependencies ... \u001b[?25l\u001b[?25hdone\n",
            "  Getting requirements to build wheel ... \u001b[?25l\u001b[?25hdone\n",
            "  Installing backend dependencies ... \u001b[?25l\u001b[?25hdone\n",
            "  Preparing metadata (pyproject.toml) ... \u001b[?25l\u001b[?25hdone\n",
            "Building wheels for collected packages: pycairo\n",
            "  \u001b[1;31merror\u001b[0m: \u001b[1msubprocess-exited-with-error\u001b[0m\n",
            "  \n",
            "  \u001b[31m×\u001b[0m \u001b[32mBuilding wheel for pycairo \u001b[0m\u001b[1;32m(\u001b[0m\u001b[32mpyproject.toml\u001b[0m\u001b[1;32m)\u001b[0m did not run successfully.\n",
            "  \u001b[31m│\u001b[0m exit code: \u001b[1;36m1\u001b[0m\n",
            "  \u001b[31m╰─>\u001b[0m See above for output.\n",
            "  \n",
            "  \u001b[1;35mnote\u001b[0m: This error originates from a subprocess, and is likely not a problem with pip.\n",
            "  Building wheel for pycairo (pyproject.toml) ... \u001b[?25l\u001b[?25herror\n",
            "\u001b[31m  ERROR: Failed building wheel for pycairo\u001b[0m\u001b[31m\n",
            "\u001b[0mFailed to build pycairo\n",
            "\u001b[31mERROR: Could not build wheels for pycairo, which is required to install pyproject.toml-based projects\u001b[0m\u001b[31m\n",
            "\u001b[0m"
          ]
        }
      ]
    },
    {
      "cell_type": "code",
      "source": [
        "import cairo"
      ],
      "metadata": {
        "id": "YhaUTqQcYSDU"
      },
      "execution_count": null,
      "outputs": []
    },
    {
      "cell_type": "markdown",
      "source": [
        "# Question 9"
      ],
      "metadata": {
        "id": "-yDZScWJIXJc"
      }
    },
    {
      "cell_type": "code",
      "execution_count": null,
      "metadata": {
        "id": "AzFsvXyXIOn1"
      },
      "outputs": [],
      "source": [
        "# build a graph: (Only December)\n",
        "    # nodes correspond to locations\n",
        "    # undirected weighted edges correspond to mean traveling times between each pair of locations\n",
        "    # add the centroid coord of each polygon region (2-D vector) as an attrbute to the corresponding vertex\n",
        "\n",
        "    # remove isolated nodes and few small connected components\n",
        "    # keep the largest connected omponents\n",
        "    # merge diplicate edges by averaging their weights"
      ]
    },
    {
      "cell_type": "code",
      "execution_count": null,
      "metadata": {
        "id": "2GUPHh1QJ_t9"
      },
      "outputs": [],
      "source": [
        "with open('los_angeles_censustracts.json') as f:\n",
        "    census_tracts = json.loads(f.readline())"
      ]
    },
    {
      "cell_type": "code",
      "execution_count": null,
      "metadata": {
        "id": "jIIjNcMLJ_t9",
        "outputId": "ddc0ae7f-fb84-4b59-8931-64f3e24feac0",
        "colab": {
          "base_uri": "https://localhost:8080/"
        }
      },
      "outputs": [
        {
          "output_type": "execute_result",
          "data": {
            "text/plain": [
              "{'MOVEMENT_ID': '1', 'TRACT': '480302', 'DISPLAY_NAME': 'Census Tract 480302'}"
            ]
          },
          "metadata": {},
          "execution_count": 27
        }
      ],
      "source": [
        "census_tracts['features'][0]['properties']"
      ]
    },
    {
      "cell_type": "code",
      "execution_count": null,
      "metadata": {
        "id": "q8Gzk-56J_t9",
        "outputId": "285415b2-bfe6-4584-8c06-c4dc84d58ce6",
        "colab": {
          "base_uri": "https://localhost:8080/"
        }
      },
      "outputs": [
        {
          "output_type": "execute_result",
          "data": {
            "text/plain": [
              "array([-118.12053321,   34.10309557])"
            ]
          },
          "metadata": {},
          "execution_count": 28
        }
      ],
      "source": [
        "np.array(census_tracts['features'][0]['geometry']['coordinates'][0]).mean(axis=0)  # [longitude, latitude]"
      ]
    },
    {
      "cell_type": "code",
      "execution_count": null,
      "metadata": {
        "id": "Rfa3uqKPJ_t9"
      },
      "outputs": [],
      "source": [
        "display_names = dict()\n",
        "coordinates = dict()\n",
        "\n",
        "for area in census_tracts['features']:\n",
        "    id = int(area['properties']['MOVEMENT_ID'])\n",
        "    display_name = area['properties']['DISPLAY_NAME']\n",
        "    display_names[id] = display_name\n",
        "    a = area['geometry']['coordinates'][0]\n",
        "    coordinates[id] = np.array(a if type(a[0][0]) == float else a[0]).mean(axis=0)"
      ]
    },
    {
      "cell_type": "code",
      "execution_count": null,
      "metadata": {
        "id": "YjSbNMS9J_t9",
        "outputId": "5cee609c-3247-40f4-eee4-200ae533263e",
        "colab": {
          "base_uri": "https://localhost:8080/"
        }
      },
      "outputs": [
        {
          "output_type": "stream",
          "name": "stdout",
          "text": [
            "1: Census Tract 480302, [-118.12053321   34.10309557]\n",
            "2: Census Tract 480303, [-118.13785063   34.09645121]\n",
            "3: Census Tract 480304, [-118.13138209   34.09626386]\n",
            "4: Census Tract 480400, [-118.13224544   34.10349303]\n",
            "5: Census Tract 480500, [-118.14492317   34.0986815 ]\n"
          ]
        }
      ],
      "source": [
        "for i in range(5):\n",
        "    key = i + 1\n",
        "    print('{}: {}, {}'.format(key, display_names[key], coordinates[key]))"
      ]
    },
    {
      "cell_type": "code",
      "execution_count": null,
      "metadata": {
        "id": "ms2fALm6J_t9"
      },
      "outputs": [],
      "source": [
        "g = Graph(directed=False)\n",
        "g.add_vertices(len(display_names))\n",
        "g.vs['display_name'] = list(display_names.values())  # index = id - 1\n",
        "g.vs['coordinates'] = list(coordinates.values())"
      ]
    },
    {
      "cell_type": "code",
      "execution_count": null,
      "metadata": {
        "id": "kKGcr2LnJ_t-"
      },
      "outputs": [],
      "source": [
        "month_filter = {12}  # for monthly aggregate data of 4th quarter, we can filter data based off of only December\n",
        "\n",
        "edges = []\n",
        "weights = []\n",
        "\n",
        "with open('los_angeles-censustracts-2019-4-All-MonthlyAggregate.csv') as f:\n",
        "    f.readline()  # skip the first line\n",
        "    \n",
        "    while True:\n",
        "        line = f.readline()\n",
        "        if line == '':\n",
        "            break  # end of file\n",
        "        \n",
        "        vals = line.strip().split(',')\n",
        "        \n",
        "        # read edge info\n",
        "        src, dest, month, dist = int(vals[0]), int(vals[1]), int(vals[2]), float(vals[3])\n",
        "\n",
        "        # if data is not relevant, skip it\n",
        "        if month not in month_filter:\n",
        "            continue\n",
        "            \n",
        "        edges.append((src - 1, dest - 1))\n",
        "        weights.append(dist)  "
      ]
    },
    {
      "cell_type": "code",
      "execution_count": null,
      "metadata": {
        "id": "Ehy9tYTVJ_t-"
      },
      "outputs": [],
      "source": [
        "g.add_edges(edges)\n",
        "g.es['weight'] = weights\n",
        "del edges, weights"
      ]
    },
    {
      "cell_type": "code",
      "execution_count": null,
      "metadata": {
        "id": "LRmyTIasJ_t-",
        "outputId": "0e72f2be-a5f9-4891-8457-b34b8b5c53e4",
        "colab": {
          "base_uri": "https://localhost:8080/"
        }
      },
      "outputs": [
        {
          "output_type": "stream",
          "name": "stdout",
          "text": [
            "2716 1692450\n"
          ]
        }
      ],
      "source": [
        "print(len(g.vs), len(g.es))"
      ]
    },
    {
      "cell_type": "code",
      "execution_count": null,
      "metadata": {
        "id": "2k2mmum6J_t-"
      },
      "outputs": [],
      "source": [
        "# keep only the giant connected component\n",
        "components = g.components()\n",
        "gcc = max(components, key=len)\n",
        "vs_to_delete = [i for i in range(len(g.vs)) if i not in gcc]\n",
        "g.delete_vertices(vs_to_delete)\n",
        "\n",
        "# remove duplicate edges\n",
        "g = g.simplify(combine_edges=dict(weight='mean'))  # combine duplicate edges"
      ]
    },
    {
      "cell_type": "code",
      "execution_count": null,
      "metadata": {
        "id": "sz8KDVOBJ_t-",
        "outputId": "e66aed43-6e84-4de9-958e-3066e892e325",
        "colab": {
          "base_uri": "https://localhost:8080/"
        }
      },
      "outputs": [
        {
          "output_type": "stream",
          "name": "stdout",
          "text": [
            "2649 1003858\n",
            "Number of nodes: 2649\n",
            "Number of edges: 1003858\n"
          ]
        }
      ],
      "source": [
        "print(len(g.vs), len(g.es))\n",
        "num_nodes = len(g.vs)\n",
        "num_edges = len(g.es)\n",
        "print(\"Number of nodes: \" + str(num_nodes))\n",
        "print(\"Number of edges: \" + str(num_edges))"
      ]
    },
    {
      "cell_type": "markdown",
      "source": [
        "# Question 10"
      ],
      "metadata": {
        "id": "pfSOyzqQO739"
      }
    },
    {
      "cell_type": "code",
      "execution_count": null,
      "metadata": {
        "id": "Hnc1wYDxJ_t-"
      },
      "outputs": [],
      "source": [
        "mst = g.spanning_tree(weights=g.es['weight'])"
      ]
    },
    {
      "cell_type": "code",
      "execution_count": null,
      "metadata": {
        "id": "HdSyFiHPJ_t-",
        "outputId": "d5befc44-75ec-43d2-ab3d-20329bfe04bf",
        "colab": {
          "base_uri": "https://localhost:8080/",
          "height": 238
        }
      },
      "outputs": [
        {
          "output_type": "execute_result",
          "data": {
            "text/plain": [
              "         source  target   weight\n",
              "edge ID                         \n",
              "0             0       2  129.765\n",
              "1             0      13  123.790\n",
              "2             1       2   90.235\n",
              "3             1       3  126.475\n",
              "4             1       9  125.675"
            ],
            "text/html": [
              "\n",
              "  <div id=\"df-3e4c6ba9-ad80-4545-8ead-138f98bd7ced\">\n",
              "    <div class=\"colab-df-container\">\n",
              "      <div>\n",
              "<style scoped>\n",
              "    .dataframe tbody tr th:only-of-type {\n",
              "        vertical-align: middle;\n",
              "    }\n",
              "\n",
              "    .dataframe tbody tr th {\n",
              "        vertical-align: top;\n",
              "    }\n",
              "\n",
              "    .dataframe thead th {\n",
              "        text-align: right;\n",
              "    }\n",
              "</style>\n",
              "<table border=\"1\" class=\"dataframe\">\n",
              "  <thead>\n",
              "    <tr style=\"text-align: right;\">\n",
              "      <th></th>\n",
              "      <th>source</th>\n",
              "      <th>target</th>\n",
              "      <th>weight</th>\n",
              "    </tr>\n",
              "    <tr>\n",
              "      <th>edge ID</th>\n",
              "      <th></th>\n",
              "      <th></th>\n",
              "      <th></th>\n",
              "    </tr>\n",
              "  </thead>\n",
              "  <tbody>\n",
              "    <tr>\n",
              "      <th>0</th>\n",
              "      <td>0</td>\n",
              "      <td>2</td>\n",
              "      <td>129.765</td>\n",
              "    </tr>\n",
              "    <tr>\n",
              "      <th>1</th>\n",
              "      <td>0</td>\n",
              "      <td>13</td>\n",
              "      <td>123.790</td>\n",
              "    </tr>\n",
              "    <tr>\n",
              "      <th>2</th>\n",
              "      <td>1</td>\n",
              "      <td>2</td>\n",
              "      <td>90.235</td>\n",
              "    </tr>\n",
              "    <tr>\n",
              "      <th>3</th>\n",
              "      <td>1</td>\n",
              "      <td>3</td>\n",
              "      <td>126.475</td>\n",
              "    </tr>\n",
              "    <tr>\n",
              "      <th>4</th>\n",
              "      <td>1</td>\n",
              "      <td>9</td>\n",
              "      <td>125.675</td>\n",
              "    </tr>\n",
              "  </tbody>\n",
              "</table>\n",
              "</div>\n",
              "      <button class=\"colab-df-convert\" onclick=\"convertToInteractive('df-3e4c6ba9-ad80-4545-8ead-138f98bd7ced')\"\n",
              "              title=\"Convert this dataframe to an interactive table.\"\n",
              "              style=\"display:none;\">\n",
              "        \n",
              "  <svg xmlns=\"http://www.w3.org/2000/svg\" height=\"24px\"viewBox=\"0 0 24 24\"\n",
              "       width=\"24px\">\n",
              "    <path d=\"M0 0h24v24H0V0z\" fill=\"none\"/>\n",
              "    <path d=\"M18.56 5.44l.94 2.06.94-2.06 2.06-.94-2.06-.94-.94-2.06-.94 2.06-2.06.94zm-11 1L8.5 8.5l.94-2.06 2.06-.94-2.06-.94L8.5 2.5l-.94 2.06-2.06.94zm10 10l.94 2.06.94-2.06 2.06-.94-2.06-.94-.94-2.06-.94 2.06-2.06.94z\"/><path d=\"M17.41 7.96l-1.37-1.37c-.4-.4-.92-.59-1.43-.59-.52 0-1.04.2-1.43.59L10.3 9.45l-7.72 7.72c-.78.78-.78 2.05 0 2.83L4 21.41c.39.39.9.59 1.41.59.51 0 1.02-.2 1.41-.59l7.78-7.78 2.81-2.81c.8-.78.8-2.07 0-2.86zM5.41 20L4 18.59l7.72-7.72 1.47 1.35L5.41 20z\"/>\n",
              "  </svg>\n",
              "      </button>\n",
              "      \n",
              "  <style>\n",
              "    .colab-df-container {\n",
              "      display:flex;\n",
              "      flex-wrap:wrap;\n",
              "      gap: 12px;\n",
              "    }\n",
              "\n",
              "    .colab-df-convert {\n",
              "      background-color: #E8F0FE;\n",
              "      border: none;\n",
              "      border-radius: 50%;\n",
              "      cursor: pointer;\n",
              "      display: none;\n",
              "      fill: #1967D2;\n",
              "      height: 32px;\n",
              "      padding: 0 0 0 0;\n",
              "      width: 32px;\n",
              "    }\n",
              "\n",
              "    .colab-df-convert:hover {\n",
              "      background-color: #E2EBFA;\n",
              "      box-shadow: 0px 1px 2px rgba(60, 64, 67, 0.3), 0px 1px 3px 1px rgba(60, 64, 67, 0.15);\n",
              "      fill: #174EA6;\n",
              "    }\n",
              "\n",
              "    [theme=dark] .colab-df-convert {\n",
              "      background-color: #3B4455;\n",
              "      fill: #D2E3FC;\n",
              "    }\n",
              "\n",
              "    [theme=dark] .colab-df-convert:hover {\n",
              "      background-color: #434B5C;\n",
              "      box-shadow: 0px 1px 3px 1px rgba(0, 0, 0, 0.15);\n",
              "      filter: drop-shadow(0px 1px 2px rgba(0, 0, 0, 0.3));\n",
              "      fill: #FFFFFF;\n",
              "    }\n",
              "  </style>\n",
              "\n",
              "      <script>\n",
              "        const buttonEl =\n",
              "          document.querySelector('#df-3e4c6ba9-ad80-4545-8ead-138f98bd7ced button.colab-df-convert');\n",
              "        buttonEl.style.display =\n",
              "          google.colab.kernel.accessAllowed ? 'block' : 'none';\n",
              "\n",
              "        async function convertToInteractive(key) {\n",
              "          const element = document.querySelector('#df-3e4c6ba9-ad80-4545-8ead-138f98bd7ced');\n",
              "          const dataTable =\n",
              "            await google.colab.kernel.invokeFunction('convertToInteractive',\n",
              "                                                     [key], {});\n",
              "          if (!dataTable) return;\n",
              "\n",
              "          const docLinkHtml = 'Like what you see? Visit the ' +\n",
              "            '<a target=\"_blank\" href=https://colab.research.google.com/notebooks/data_table.ipynb>data table notebook</a>'\n",
              "            + ' to learn more about interactive tables.';\n",
              "          element.innerHTML = '';\n",
              "          dataTable['output_type'] = 'display_data';\n",
              "          await google.colab.output.renderOutput(dataTable, element);\n",
              "          const docLink = document.createElement('div');\n",
              "          docLink.innerHTML = docLinkHtml;\n",
              "          element.appendChild(docLink);\n",
              "        }\n",
              "      </script>\n",
              "    </div>\n",
              "  </div>\n",
              "  "
            ]
          },
          "metadata": {},
          "execution_count": 18
        }
      ],
      "source": [
        "edf = mst.get_edge_dataframe()\n",
        "edf.head()"
      ]
    },
    {
      "cell_type": "code",
      "source": [
        "g.vs.attribute_names() # vertex"
      ],
      "metadata": {
        "colab": {
          "base_uri": "https://localhost:8080/"
        },
        "id": "cZBNP-x0NzQ3",
        "outputId": "53cbcb07-92ac-4591-92dd-867311ccbc3e"
      },
      "execution_count": null,
      "outputs": [
        {
          "output_type": "execute_result",
          "data": {
            "text/plain": [
              "['display_name', 'coordinates']"
            ]
          },
          "metadata": {},
          "execution_count": 37
        }
      ]
    },
    {
      "cell_type": "code",
      "source": [
        "g.es.attribute_names() #edge"
      ],
      "metadata": {
        "colab": {
          "base_uri": "https://localhost:8080/"
        },
        "id": "xY0SQLhyNwFR",
        "outputId": "9b1897d7-9d88-4798-d17d-6d66becb2260"
      },
      "execution_count": null,
      "outputs": [
        {
          "output_type": "execute_result",
          "data": {
            "text/plain": [
              "['weight']"
            ]
          },
          "metadata": {},
          "execution_count": 38
        }
      ]
    },
    {
      "cell_type": "code",
      "execution_count": null,
      "metadata": {
        "id": "1vIoYO4oJ_t-",
        "outputId": "e41756a1-4633-45ec-9f45-2c65a4c36275",
        "colab": {
          "base_uri": "https://localhost:8080/",
          "height": 430
        }
      },
      "outputs": [
        {
          "output_type": "display_data",
          "data": {
            "text/plain": [
              "<Figure size 640x480 with 1 Axes>"
            ],
            "image/png": "[encoded data removed]"
          },
          "metadata": {}
        }
      ],
      "source": [
        "import matplotlib.pyplot as plt\n",
        "weights = mst.es['weight']\n",
        "binwidth = 20\n",
        "bins = np.arange(min(weights), max(weights) + binwidth, binwidth)\n",
        "plt.hist(weights, bins=bins)\n",
        "plt.show()"
      ]
    },
    {
      "cell_type": "code",
      "execution_count": null,
      "metadata": {
        "id": "wB3AKUuAJ_t-",
        "outputId": "dfe81e9b-ad7f-4428-e6f0-9e7f6c7e6045",
        "colab": {
          "base_uri": "https://localhost:8080/"
        }
      },
      "outputs": [
        {
          "output_type": "stream",
          "name": "stdout",
          "text": [
            "Distance in miles: 0.885\n",
            "Time taken: 129.8\n",
            "---------\n",
            "\n",
            "Distance in miles: 0.570\n",
            "Time taken: 123.8\n",
            "---------\n",
            "\n",
            "Distance in miles: 0.447\n",
            "Time taken: 90.2\n",
            "---------\n",
            "\n",
            "Distance in miles: 0.621\n",
            "Time taken: 126.5\n",
            "---------\n",
            "\n",
            "Distance in miles: 0.812\n",
            "Time taken: 125.7\n",
            "---------\n",
            "\n",
            "Distance in miles: 0.618\n",
            "Time taken: 119.9\n",
            "---------\n",
            "\n",
            "Distance in miles: 0.936\n",
            "Time taken: 125.2\n",
            "---------\n",
            "\n",
            "Distance in miles: 1.026\n",
            "Time taken: 117.3\n",
            "---------\n",
            "\n",
            "Distance in miles: 0.412\n",
            "Time taken: 91.8\n",
            "---------\n",
            "\n",
            "Distance in miles: 0.256\n",
            "Time taken: 64.8\n",
            "---------\n",
            "\n",
            "Distance in miles: 0.204\n",
            "Time taken: 87.1\n",
            "---------\n",
            "\n",
            "Distance in miles: 0.620\n",
            "Time taken: 110.9\n",
            "---------\n",
            "\n"
          ]
        }
      ],
      "source": [
        "for i, e in enumerate(mst.es):\n",
        "    print('Distance in miles: {:.3f}\\nTime taken: {:.1f}\\n---------\\n'.format(linalg.norm(mst.vs[e.source]['coordinates'] - mst.vs[e.target]['coordinates'])* 69, e['weight']))\n",
        "    if i > 10:\n",
        "        break"
      ]
    },
    {
      "cell_type": "code",
      "source": [
        "for i, e in enumerate(mst.es):\n",
        "  print(\"Source: \" + str(mst.vs[e.source]['coordinates']))\n",
        "  print(\"Target: \" + str(mst.vs[e.target]['coordinates']))\n",
        "  if i > 10:\n",
        "    break"
      ],
      "metadata": {
        "colab": {
          "base_uri": "https://localhost:8080/"
        },
        "id": "Hh1Li3voQmqS",
        "outputId": "1356dd27-5bbb-4570-a62d-0208b47529f2"
      },
      "execution_count": null,
      "outputs": [
        {
          "output_type": "stream",
          "name": "stdout",
          "text": [
            "Source: [-118.12053321   34.10309557]\n",
            "Target: [-118.13138209   34.09626386]\n",
            "Source: [-118.12053321   34.10309557]\n",
            "Target: [-118.11656383   34.09585388]\n",
            "Source: [-118.13785063   34.09645121]\n",
            "Target: [-118.13138209   34.09626386]\n",
            "Source: [-118.13785063   34.09645121]\n",
            "Target: [-118.13224544   34.10349303]\n",
            "Source: [-118.13785063   34.09645121]\n",
            "Target: [-118.14184446   34.08538654]\n",
            "Source: [-118.13138209   34.09626386]\n",
            "Target: [-118.12911933   34.08759475]\n",
            "Source: [-118.13224544   34.10349303]\n",
            "Target: [-118.14492317   34.0986815 ]\n",
            "Source: [-118.13224544   34.10349303]\n",
            "Target: [-118.14554175   34.11014686]\n",
            "Source: [-118.14492317   34.0986815 ]\n",
            "Target: [-118.15023891   34.09595766]\n",
            "Source: [-118.1528085   34.098628 ]\n",
            "Target: [-118.15023891   34.09595766]\n",
            "Source: [-118.1528085   34.098628 ]\n",
            "Target: [-118.1557638   34.0986163]\n",
            "Source: [-118.1528085   34.098628 ]\n",
            "Target: [-118.15508201   34.10732695]\n"
          ]
        }
      ]
    },
    {
      "cell_type": "markdown",
      "source": [
        "# Question 11"
      ],
      "metadata": {
        "id": "P3bw9GZ8Ta5o"
      }
    },
    {
      "cell_type": "code",
      "execution_count": null,
      "metadata": {
        "id": "LP1I9xA-J_t_",
        "colab": {
          "base_uri": "https://localhost:8080/"
        },
        "outputId": "5896b4ea-edcb-4adc-b2fc-81d5c2f962cf"
      },
      "outputs": [
        {
          "output_type": "stream",
          "name": "stdout",
          "text": [
            "Test: False True\n"
          ]
        }
      ],
      "source": [
        "def is_triangle(sides):\n",
        "    #write code here \n",
        "    sides = sorted(sides)\n",
        "\n",
        "    if sides[0]+sides[1]>=sides[2] and all(s>0 for s in sides):\n",
        "      return True\n",
        "    \n",
        "    return False\n",
        "\n",
        "print('Test:', is_triangle([1,4,2]), is_triangle([3,5,3]))"
      ]
    },
    {
      "cell_type": "code",
      "execution_count": null,
      "metadata": {
        "id": "GDx8ljjtJ_t_"
      },
      "outputs": [],
      "source": [
        "def sample_triangles(g, n_samples):\n",
        "    result = list()\n",
        "    #result will have tuple of the the vertices of a triangle \n",
        "\n",
        "    combination = set()\n",
        "\n",
        "    i = 0\n",
        "    while i < n_samples:\n",
        "        currentVertex = ()\n",
        "        while True:\n",
        "            index = set()\n",
        "            \n",
        "            while len(index) < 3:\n",
        "                index.add(random.randint(0, len(g.vs()) - 1))\n",
        "            tempIndex = list(index)\n",
        "            tempIndex.sort()\n",
        "            currentVertex = tuple(tempIndex)\n",
        "            \n",
        "            if not currentVertex in combination:\n",
        "                combination.add(currentVertex)\n",
        "                break\n",
        "        i += 1\n",
        "    combination = list(combination)\n",
        "    \n",
        "    for vertices in combination:\n",
        "        resultTemp = g.vs()[vertices[0]], g.vs()[vertices[1]], g.vs()[vertices[2]]\n",
        "        result.append(resultTemp)\n",
        "\n",
        "    #result will have tuple of the the vertices of a triangle \n",
        "\n",
        "    return result"
      ]
    },
    {
      "cell_type": "code",
      "execution_count": null,
      "metadata": {
        "id": "8GrLx6LyJ_t_"
      },
      "outputs": [],
      "source": [
        "n_samples = 1000  # WARNING: this might take a minute for larger sample sizes\n",
        "triangles = 0\n",
        "sampled = sample_triangles(g, n_samples)"
      ]
    },
    {
      "cell_type": "code",
      "source": [
        "for triangle_vs in sampled:\n",
        "    \n",
        "    edge_lengths = []\n",
        "    \n",
        "    for i in range(3):\n",
        "        for j in range(i):\n",
        "            edge_lengths.append(min(g.es.select(_between=([triangle_vs[i]], [triangle_vs[j]]))['weight']))   \n",
        "            \n",
        "    triangles += is_triangle(edge_lengths)\n",
        "    \n",
        "print('Triangle inequality holds by {}%'.format(round(100.0 * triangles / n_samples, 1)))"
      ],
      "metadata": {
        "id": "aNuIf7p2WFpe"
      },
      "execution_count": null,
      "outputs": []
    },
    {
      "cell_type": "markdown",
      "source": [
        "# Question 12"
      ],
      "metadata": {
        "id": "xe8GyYiUYf1L"
      }
    },
    {
      "cell_type": "code",
      "source": [
        "!pip install descartes"
      ],
      "metadata": {
        "colab": {
          "base_uri": "https://localhost:8080/"
        },
        "id": "P3GSWjO-fWYz",
        "outputId": "1917019b-dc2a-4778-fd68-9307189a214f"
      },
      "execution_count": 70,
      "outputs": [
        {
          "output_type": "stream",
          "name": "stdout",
          "text": [
            "Looking in indexes: https://pypi.org/simple, https://us-python.pkg.dev/colab-wheels/public/simple/\n",
            "Collecting descartes\n",
            "  Downloading descartes-1.1.0-py3-none-any.whl (5.8 kB)\n",
            "Requirement already satisfied: matplotlib in /usr/local/lib/python3.10/dist-packages (from descartes) (3.7.1)\n",
            "Requirement already satisfied: contourpy>=1.0.1 in /usr/local/lib/python3.10/dist-packages (from matplotlib->descartes) (1.0.7)\n",
            "Requirement already satisfied: cycler>=0.10 in /usr/local/lib/python3.10/dist-packages (from matplotlib->descartes) (0.11.0)\n",
            "Requirement already satisfied: fonttools>=4.22.0 in /usr/local/lib/python3.10/dist-packages (from matplotlib->descartes) (4.39.3)\n",
            "Requirement already satisfied: kiwisolver>=1.0.1 in /usr/local/lib/python3.10/dist-packages (from matplotlib->descartes) (1.4.4)\n",
            "Requirement already satisfied: numpy>=1.20 in /usr/local/lib/python3.10/dist-packages (from matplotlib->descartes) (1.22.4)\n",
            "Requirement already satisfied: packaging>=20.0 in /usr/local/lib/python3.10/dist-packages (from matplotlib->descartes) (23.1)\n",
            "Requirement already satisfied: pillow>=6.2.0 in /usr/local/lib/python3.10/dist-packages (from matplotlib->descartes) (8.4.0)\n",
            "Requirement already satisfied: pyparsing>=2.3.1 in /usr/local/lib/python3.10/dist-packages (from matplotlib->descartes) (3.0.9)\n",
            "Requirement already satisfied: python-dateutil>=2.7 in /usr/local/lib/python3.10/dist-packages (from matplotlib->descartes) (2.8.2)\n",
            "Requirement already satisfied: six>=1.5 in /usr/local/lib/python3.10/dist-packages (from python-dateutil>=2.7->matplotlib->descartes) (1.16.0)\n",
            "Installing collected packages: descartes\n",
            "Successfully installed descartes-1.1.0\n"
          ]
        }
      ]
    },
    {
      "cell_type": "code",
      "source": [
        "!pip install geopandas"
      ],
      "metadata": {
        "colab": {
          "base_uri": "https://localhost:8080/"
        },
        "id": "rwk40xsUfcAe",
        "outputId": "7ec745f2-bccf-4523-dbcd-4a31f328c570"
      },
      "execution_count": 72,
      "outputs": [
        {
          "output_type": "stream",
          "name": "stdout",
          "text": [
            "Looking in indexes: https://pypi.org/simple, https://us-python.pkg.dev/colab-wheels/public/simple/\n",
            "Collecting geopandas\n",
            "  Downloading geopandas-0.13.0-py3-none-any.whl (1.1 MB)\n",
            "\u001b[2K     \u001b[90m━━━━━━━━━━━━━━━━━━━━━━━━━━━━━━━━━━━━━━━━\u001b[0m \u001b[32m1.1/1.1 MB\u001b[0m \u001b[31m13.0 MB/s\u001b[0m eta \u001b[36m0:00:00\u001b[0m\n",
            "\u001b[?25hCollecting fiona>=1.8.19 (from geopandas)\n",
            "  Downloading Fiona-1.9.4.post1-cp310-cp310-manylinux_2_17_x86_64.manylinux2014_x86_64.whl (16.4 MB)\n",
            "\u001b[2K     \u001b[90m━━━━━━━━━━━━━━━━━━━━━━━━━━━━━━━━━━━━━━━━\u001b[0m \u001b[32m16.4/16.4 MB\u001b[0m \u001b[31m35.1 MB/s\u001b[0m eta \u001b[36m0:00:00\u001b[0m\n",
            "\u001b[?25hRequirement already satisfied: packaging in /usr/local/lib/python3.10/dist-packages (from geopandas) (23.1)\n",
            "Requirement already satisfied: pandas>=1.1.0 in /usr/local/lib/python3.10/dist-packages (from geopandas) (1.5.3)\n",
            "Collecting pyproj>=3.0.1 (from geopandas)\n",
            "  Downloading pyproj-3.5.0-cp310-cp310-manylinux_2_17_x86_64.manylinux2014_x86_64.whl (7.7 MB)\n",
            "\u001b[2K     \u001b[90m━━━━━━━━━━━━━━━━━━━━━━━━━━━━━━━━━━━━━━━━\u001b[0m \u001b[32m7.7/7.7 MB\u001b[0m \u001b[31m25.0 MB/s\u001b[0m eta \u001b[36m0:00:00\u001b[0m\n",
            "\u001b[?25hRequirement already satisfied: shapely>=1.7.1 in /usr/local/lib/python3.10/dist-packages (from geopandas) (2.0.1)\n",
            "Requirement already satisfied: attrs>=19.2.0 in /usr/local/lib/python3.10/dist-packages (from fiona>=1.8.19->geopandas) (23.1.0)\n",
            "Requirement already satisfied: certifi in /usr/local/lib/python3.10/dist-packages (from fiona>=1.8.19->geopandas) (2022.12.7)\n",
            "Requirement already satisfied: click~=8.0 in /usr/local/lib/python3.10/dist-packages (from fiona>=1.8.19->geopandas) (8.1.3)\n",
            "Collecting click-plugins>=1.0 (from fiona>=1.8.19->geopandas)\n",
            "  Downloading click_plugins-1.1.1-py2.py3-none-any.whl (7.5 kB)\n",
            "Collecting cligj>=0.5 (from fiona>=1.8.19->geopandas)\n",
            "  Downloading cligj-0.7.2-py3-none-any.whl (7.1 kB)\n",
            "Requirement already satisfied: six in /usr/local/lib/python3.10/dist-packages (from fiona>=1.8.19->geopandas) (1.16.0)\n",
            "Requirement already satisfied: python-dateutil>=2.8.1 in /usr/local/lib/python3.10/dist-packages (from pandas>=1.1.0->geopandas) (2.8.2)\n",
            "Requirement already satisfied: pytz>=2020.1 in /usr/local/lib/python3.10/dist-packages (from pandas>=1.1.0->geopandas) (2022.7.1)\n",
            "Requirement already satisfied: numpy>=1.21.0 in /usr/local/lib/python3.10/dist-packages (from pandas>=1.1.0->geopandas) (1.22.4)\n",
            "Installing collected packages: pyproj, cligj, click-plugins, fiona, geopandas\n",
            "Successfully installed click-plugins-1.1.1 cligj-0.7.2 fiona-1.9.4.post1 geopandas-0.13.0 pyproj-3.5.0\n"
          ]
        }
      ]
    },
    {
      "cell_type": "markdown",
      "source": [
        "#Helper"
      ],
      "metadata": {
        "id": "JvCn-EZ0J_wE"
      }
    },
    {
      "cell_type": "markdown",
      "metadata": {
        "id": "T0c57jF8J_t-"
      },
      "source": [
        "## TSP Approximation"
      ]
    },
    {
      "cell_type": "markdown",
      "metadata": {
        "id": "xiADaXaHJ_t_"
      },
      "source": [
        "### Actual Data"
      ]
    },
    {
      "cell_type": "code",
      "execution_count": null,
      "metadata": {
        "id": "-ZvRYyRFJ_t_"
      },
      "outputs": [],
      "source": [
        "tsp = #refer to slides \n",
        "print('IDs:\\n' + '-' * 10 + '\\n' + '\\n'.join([mst.vs[i]['display_name'] for i in tsp]))"
      ]
    },
    {
      "cell_type": "code",
      "execution_count": null,
      "metadata": {
        "id": "UnHHB6kFJ_t_"
      },
      "outputs": [],
      "source": [
        "hop_distances = ##refer to slides \n",
        "print('Hop distances:\\n' + '-' * 10 + '\\n' +\n",
        "      '\\n'.join(['{:.3f}'.format(x) for x in hop_distances.tolist()]))"
      ]
    },
    {
      "cell_type": "markdown",
      "metadata": {
        "id": "FvUqoQC6J_t_"
      },
      "source": [
        "### Measureing Relative Performance Guarantee"
      ]
    },
    {
      "cell_type": "code",
      "execution_count": null,
      "metadata": {
        "id": "MIG-zQGfJ_t_"
      },
      "outputs": [],
      "source": [
        "mst_cost = sum(mst.es['weight'])"
      ]
    },
    {
      "cell_type": "markdown",
      "metadata": {
        "id": "pUHdwvlfJ_t_"
      },
      "source": [
        "<hr><b><font color=\"red\">WARNING: SLOW!</font></b>"
      ]
    },
    {
      "cell_type": "code",
      "execution_count": null,
      "metadata": {
        "id": "E_iSmO-tJ_t_"
      },
      "outputs": [],
      "source": [
        "tsp_cost = 0\n",
        "for i in range(len(tsp)):\n",
        "    if i % 100 == 0:\n",
        "        print(i)\n",
        "        \n",
        "    #write code "
      ]
    },
    {
      "cell_type": "code",
      "execution_count": null,
      "metadata": {
        "id": "5JfkPiWeJ_t_"
      },
      "outputs": [],
      "source": [
        "print('MST Cost:', round(mst_cost))\n",
        "print('TSP Cost:', round(tsp_cost))\n",
        "print('Ratio:', round(tsp_cost/mst_cost, 2))"
      ]
    },
    {
      "cell_type": "markdown",
      "metadata": {
        "id": "7zH-vecQJ_uA"
      },
      "source": [
        "---\n",
        "TSP results should resemble the following figure"
      ]
    },
    {
      "cell_type": "code",
      "execution_count": null,
      "metadata": {
        "id": "0rioVf8cJ_uA"
      },
      "outputs": [],
      "source": [
        "all_coordinates = np.array(g.vs['coordinates'])\n",
        "tsp_coordinates = all_coordinates[tsp, :]\n",
        "tsp_coordinates = np.vstack([tsp_coordinates, tsp_coordinates[0, :]])  # connect the last element back to the first element"
      ]
    },
    {
      "cell_type": "code",
      "execution_count": null,
      "metadata": {
        "id": "z5M25q3GJ_uA"
      },
      "outputs": [],
      "source": [
        "plt.figure(figsize=(20,20))\n",
        "plt.plot(tsp_coordinates[:, 0], tsp_coordinates[:, 1],'-')\n",
        "plt.show()"
      ]
    },
    {
      "cell_type": "markdown",
      "metadata": {
        "id": "ec71Lq0nJ_uA"
      },
      "source": [
        "### Triangulation"
      ]
    },
    {
      "cell_type": "code",
      "execution_count": null,
      "metadata": {
        "id": "1WVeficzJ_uG"
      },
      "outputs": [],
      "source": [
        "tri = #use the Delaunay function imported above "
      ]
    },
    {
      "cell_type": "code",
      "execution_count": null,
      "metadata": {
        "id": "CO0plShOJ_uG"
      },
      "outputs": [],
      "source": [
        "plt.figure(figsize=(15,15))\n",
        "plt.triplot(coordinates[:, 0], coordinates[:, 1], tri.simplices.copy())\n",
        "plt.show()"
      ]
    },
    {
      "cell_type": "code",
      "execution_count": null,
      "metadata": {
        "scrolled": true,
        "id": "ZWNf__D4J_uG"
      },
      "outputs": [],
      "source": [
        "edges_to_induce = []\n",
        "\n",
        "for i in range(tri.simplices.shape[0]):\n",
        "    for col1, col2 in ((0, 1), (1, 2), (0, 2)):\n",
        "        #add the edges to edges_to_induce\n"
      ]
    },
    {
      "cell_type": "code",
      "execution_count": null,
      "metadata": {
        "id": "vcxfLMO0J_uG"
      },
      "outputs": [],
      "source": [
        "tri_g = g.subgraph_edges(edges_to_induce)"
      ]
    }
  ]
}