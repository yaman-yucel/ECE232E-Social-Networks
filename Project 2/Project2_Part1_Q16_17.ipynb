{
 "cells": [
  {
   "cell_type": "code",
   "execution_count": 1,
   "id": "a6cc6c41",
   "metadata": {},
   "outputs": [
    {
     "name": "stderr",
     "output_type": "stream",
     "text": [
      "Loading required package: igraph\n",
      "Warning message:\n",
      "\"package 'igraph' was built under R version 3.6.3\"\n",
      "Attaching package: 'igraph'\n",
      "\n",
      "The following objects are masked from 'package:stats':\n",
      "\n",
      "    decompose, spectrum\n",
      "\n",
      "The following object is masked from 'package:base':\n",
      "\n",
      "    union\n",
      "\n"
     ]
    }
   ],
   "source": [
    "if (!require('igraph')){ \n",
    "    install.packages('igraph')\n",
    "}\n",
    "library('igraph')\n",
    "set.seed(666)"
   ]
  },
  {
   "cell_type": "code",
   "execution_count": 2,
   "id": "018226af",
   "metadata": {},
   "outputs": [],
   "source": [
    "fb_graph <- read.graph(\"facebook_combined.txt\", format=\"edgelist\", directed=FALSE)"
   ]
  },
  {
   "cell_type": "code",
   "execution_count": 3,
   "id": "9cc1116e",
   "metadata": {},
   "outputs": [],
   "source": [
    "create_core_node_graph <- function(id, graph){\n",
    "    old_node_names <- c(id, neighbors(graph,id))\n",
    "    core_node_g <- induced_subgraph(graph, old_node_names)\n",
    "    #V(core_node_g)$name <- sort(old_node_names) # we do not need to hold old ids of vertices\n",
    "    core_node_g$core_node_id <- id\n",
    "    core_node_g$core_node_pos <- which(V(core_node_g)$name==id)\n",
    "    return(core_node_g)\n",
    "}"
   ]
  },
  {
   "cell_type": "code",
   "execution_count": 4,
   "id": "65cd9655",
   "metadata": {},
   "outputs": [],
   "source": [
    "core_node_415 <- create_core_node_graph(id = 415,graph = fb_graph ) "
   ]
  },
  {
   "cell_type": "code",
   "execution_count": 5,
   "id": "3ba5c721",
   "metadata": {},
   "outputs": [],
   "source": [
    "N_r = V(core_node_415)[degree(core_node_415) == 24]"
   ]
  },
  {
   "cell_type": "code",
   "execution_count": 6,
   "id": "8116c4f9",
   "metadata": {},
   "outputs": [
    {
     "data": {
      "text/plain": [
       "+ 11/160 vertices, from 665ab83:\n",
       " [1]  31  53  75  90  93 102 118 133 134 136 137"
      ]
     },
     "metadata": {},
     "output_type": "display_data"
    }
   ],
   "source": [
    "N_r"
   ]
  },
  {
   "cell_type": "code",
   "execution_count": 7,
   "id": "e04dbaee",
   "metadata": {},
   "outputs": [
    {
     "name": "stdout",
     "output_type": "stream",
     "text": [
      "[1] 11\n"
     ]
    }
   ],
   "source": [
    "print(length(N_r))"
   ]
  },
  {
   "cell_type": "code",
   "execution_count": 8,
   "id": "84aeb8c4",
   "metadata": {},
   "outputs": [],
   "source": [
    "compute_common_neighbors <- function(node_i,node_j,graph)\n",
    "{\n",
    "    common_neighbors_i_j = intersection(neighbors(graph, node_i),neighbors(graph, node_j))\n",
    "    return(length(common_neighbors_i_j))\n",
    "}"
   ]
  },
  {
   "cell_type": "code",
   "execution_count": 9,
   "id": "f39981f3",
   "metadata": {},
   "outputs": [],
   "source": [
    "compute_jaccard_measure <- function(node_i,node_j,graph)\n",
    "{\n",
    "    inter = intersection(neighbors(graph, node_i),neighbors(graph, node_j))\n",
    "    uni = union(neighbors(graph, node_i),neighbors(graph, node_j))\n",
    "    return(length(inter)/length(uni))\n",
    "}"
   ]
  },
  {
   "cell_type": "code",
   "execution_count": 10,
   "id": "8512e19c",
   "metadata": {},
   "outputs": [],
   "source": [
    "compute_ada_mic_r_measure <- function(node_i,node_j,graph)\n",
    "{\n",
    "    inter = intersection(neighbors(graph, node_i),neighbors(graph, node_j))\n",
    "    sum = 0\n",
    "    for (node_k in inter){\n",
    "        term = 1/(log(length(neighbors(graph, node_k))))\n",
    "        sum = sum + term\n",
    "    }\n",
    "    return(sum)\n",
    "}"
   ]
  },
  {
   "cell_type": "code",
   "execution_count": 11,
   "id": "36ea1412",
   "metadata": {},
   "outputs": [],
   "source": [
    "calculate_avg_acc <- function(core_node_g,measure_function){\n",
    "    user_acc_list = c()\n",
    "    n_iter = 10\n",
    "    N_r = V(core_node_g)[degree(core_node_g) == 24]\n",
    "    for(node_i in as_ids(N_r)){\n",
    "    \n",
    "        step_acc_list = c()\n",
    "        for (iter in c(1:n_iter)){\n",
    "        \n",
    "            S_i = as_ids(neighbors(core_node_g, node_i))\n",
    "            R_i = c() \n",
    "            tmp_graph = core_node_g\n",
    "            \n",
    "            for (node_neighbor in S_i){\n",
    "                random_num = runif(1, 0, 1)\n",
    "                if (random_num <= 0.25){\n",
    "                \n",
    "                    R_i = append(R_i, node_neighbor)\n",
    "                    tmp_graph = delete_edges(tmp_graph, edge(node_neighbor, node_i))\n",
    "                }\n",
    "            }\n",
    "            node_i_remaining_neighbors = cbind(setdiff(S_i, R_i),node_i)\n",
    "            node_i_remaining_not_neighbors = setdiff(as_ids(V(tmp_graph)), node_i_remaining_neighbors)\n",
    "            measure = c()\n",
    "            for (node_j in node_i_remaining_not_neighbors){\n",
    "                measure = c(measure, measure_function(node_i,node_j,tmp_graph))\n",
    "            }\n",
    "            best_idx = sort(measure,decreasing=TRUE, index.return=TRUE)$ix\n",
    "            P_i = node_i_remaining_not_neighbors[best_idx[1:length(R_i)]]\n",
    "            step_acc = length(intersect(P_i,R_i ))/length(R_i)\n",
    "            if(!is.na(step_acc)){\n",
    "                step_acc_list = cbind(step_acc_list,step_acc)\n",
    "            }\n",
    "        }\n",
    "        user_acc = mean(step_acc_list)\n",
    "        user_acc_list = cbind(user_acc_list,user_acc) \n",
    "        print(sprintf(\"User %d : Average accuracy of friend recommendation algorithm is %2.5f\", node_i,user_acc))  \n",
    "    }\n",
    "    result = mean(user_acc_list)\n",
    "    print(sprintf(\"Average accuracy of friend recommendation algorithm  is %2.5f\",result))\n",
    "    return(result)\n",
    "}"
   ]
  },
  {
   "cell_type": "code",
   "execution_count": 12,
   "id": "47ac6daa",
   "metadata": {},
   "outputs": [
    {
     "name": "stdout",
     "output_type": "stream",
     "text": [
      "[1] \"User 31 : Average accuracy of friend recommendation algorithm is 0.29905\"\n",
      "[1] \"User 53 : Average accuracy of friend recommendation algorithm is 1.00000\"\n",
      "[1] \"User 75 : Average accuracy of friend recommendation algorithm is 0.87143\"\n",
      "[1] \"User 90 : Average accuracy of friend recommendation algorithm is 0.82476\"\n",
      "[1] \"User 93 : Average accuracy of friend recommendation algorithm is 0.41988\"\n",
      "[1] \"User 102 : Average accuracy of friend recommendation algorithm is 1.00000\"\n",
      "[1] \"User 118 : Average accuracy of friend recommendation algorithm is 0.84167\"\n",
      "[1] \"User 133 : Average accuracy of friend recommendation algorithm is 1.00000\"\n",
      "[1] \"User 134 : Average accuracy of friend recommendation algorithm is 1.00000\"\n",
      "[1] \"User 136 : Average accuracy of friend recommendation algorithm is 0.91893\"\n",
      "[1] \"User 137 : Average accuracy of friend recommendation algorithm is 0.98571\"\n",
      "[1] \"Average accuracy of friend recommendation algorithm  is 0.83286\"\n"
     ]
    }
   ],
   "source": [
    "result_common_neighbor = calculate_avg_acc(core_node_g = core_node_415,measure_function = compute_common_neighbors)"
   ]
  },
  {
   "cell_type": "code",
   "execution_count": 13,
   "id": "e4d8502e",
   "metadata": {},
   "outputs": [
    {
     "name": "stdout",
     "output_type": "stream",
     "text": [
      "[1] \"User 31 : Average accuracy of friend recommendation algorithm is 0.09592\"\n",
      "[1] \"User 53 : Average accuracy of friend recommendation algorithm is 0.95893\"\n",
      "[1] \"User 75 : Average accuracy of friend recommendation algorithm is 0.90071\"\n",
      "[1] \"User 90 : Average accuracy of friend recommendation algorithm is 0.80881\"\n",
      "[1] \"User 93 : Average accuracy of friend recommendation algorithm is 0.47036\"\n",
      "[1] \"User 102 : Average accuracy of friend recommendation algorithm is 0.98571\"\n",
      "[1] \"User 118 : Average accuracy of friend recommendation algorithm is 0.89389\"\n",
      "[1] \"User 133 : Average accuracy of friend recommendation algorithm is 0.96333\"\n",
      "[1] \"User 134 : Average accuracy of friend recommendation algorithm is 0.98333\"\n",
      "[1] \"User 136 : Average accuracy of friend recommendation algorithm is 0.89655\"\n",
      "[1] \"User 137 : Average accuracy of friend recommendation algorithm is 0.92500\"\n",
      "[1] \"Average accuracy of friend recommendation algorithm  is 0.80750\"\n"
     ]
    }
   ],
   "source": [
    "result_jaccard = calculate_avg_acc(core_node_g = core_node_415,measure_function = compute_jaccard_measure)"
   ]
  },
  {
   "cell_type": "code",
   "execution_count": 14,
   "id": "ffc1abda",
   "metadata": {},
   "outputs": [
    {
     "name": "stdout",
     "output_type": "stream",
     "text": [
      "[1] \"User 31 : Average accuracy of friend recommendation algorithm is 0.30345\"\n",
      "[1] \"User 53 : Average accuracy of friend recommendation algorithm is 1.00000\"\n",
      "[1] \"User 75 : Average accuracy of friend recommendation algorithm is 0.88893\"\n",
      "[1] \"User 90 : Average accuracy of friend recommendation algorithm is 0.82960\"\n",
      "[1] \"User 93 : Average accuracy of friend recommendation algorithm is 0.43811\"\n",
      "[1] \"User 102 : Average accuracy of friend recommendation algorithm is 1.00000\"\n",
      "[1] \"User 118 : Average accuracy of friend recommendation algorithm is 0.83671\"\n",
      "[1] \"User 133 : Average accuracy of friend recommendation algorithm is 1.00000\"\n",
      "[1] \"User 134 : Average accuracy of friend recommendation algorithm is 1.00000\"\n",
      "[1] \"User 136 : Average accuracy of friend recommendation algorithm is 0.87405\"\n",
      "[1] \"User 137 : Average accuracy of friend recommendation algorithm is 0.96905\"\n",
      "[1] \"Average accuracy of friend recommendation algorithm  is 0.83090\"\n"
     ]
    }
   ],
   "source": [
    "result_adamic_adar = calculate_avg_acc(core_node_g = core_node_415,measure_function = compute_ada_mic_r_measure)"
   ]
  },
  {
   "cell_type": "code",
   "execution_count": null,
   "id": "6eb1a288",
   "metadata": {},
   "outputs": [],
   "source": []
  }
 ],
 "metadata": {
  "kernelspec": {
   "display_name": "R",
   "language": "R",
   "name": "ir"
  },
  "language_info": {
   "codemirror_mode": "r",
   "file_extension": ".r",
   "mimetype": "text/x-r-source",
   "name": "R",
   "pygments_lexer": "r",
   "version": "3.6.1"
  }
 },
 "nbformat": 4,
 "nbformat_minor": 5
}
