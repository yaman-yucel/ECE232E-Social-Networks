{
  "nbformat": 4,
  "nbformat_minor": 0,
  "metadata": {
    "colab": {
      "provenance": []
    },
    "kernelspec": {
      "name": "ir",
      "display_name": "R"
    },
    "language_info": {
      "name": "R"
    }
  },
  "cells": [
    {
      "cell_type": "markdown",
      "source": [
        "# Setup"
      ],
      "metadata": {
        "id": "uK8xzbgcYSF9"
      }
    },
    {
      "cell_type": "code",
      "source": [
        "if (!require(\"igraph\")) install.packages(\"igraph\")\n",
        "library (\"igraph\")"
      ],
      "metadata": {
        "colab": {
          "base_uri": "https://localhost:8080/"
        },
        "id": "Q2hGZDlHq29h",
        "outputId": "cacefe80-eeac-4ec1-d23f-d363177db86e"
      },
      "execution_count": null,
      "outputs": [
        {
          "output_type": "stream",
          "name": "stderr",
          "text": [
            "Loading required package: igraph\n",
            "\n",
            "Warning message in library(package, lib.loc = lib.loc, character.only = TRUE, logical.return = TRUE, :\n",
            "“there is no package called ‘igraph’”\n",
            "Installing package into ‘/usr/local/lib/R/site-library’\n",
            "(as ‘lib’ is unspecified)\n",
            "\n",
            "\n",
            "Attaching package: ‘igraph’\n",
            "\n",
            "\n",
            "The following objects are masked from ‘package:stats’:\n",
            "\n",
            "    decompose, spectrum\n",
            "\n",
            "\n",
            "The following object is masked from ‘package:base’:\n",
            "\n",
            "    union\n",
            "\n",
            "\n"
          ]
        }
      ]
    },
    {
      "cell_type": "code",
      "source": [
        "install.packages(\"googledrive\")\n",
        "library(\"googledrive\")\n",
        "install.packages(\"httpuv\") \n",
        "library(\"httpuv\")"
      ],
      "metadata": {
        "colab": {
          "base_uri": "https://localhost:8080/"
        },
        "id": "SNNRGudOSwVc",
        "outputId": "53f22da3-4a99-4304-de5e-63f101ecd44e"
      },
      "execution_count": null,
      "outputs": [
        {
          "output_type": "stream",
          "name": "stderr",
          "text": [
            "Installing package into ‘/usr/local/lib/R/site-library’\n",
            "(as ‘lib’ is unspecified)\n",
            "\n",
            "Installing package into ‘/usr/local/lib/R/site-library’\n",
            "(as ‘lib’ is unspecified)\n",
            "\n",
            "also installing the dependencies ‘Rcpp’, ‘promises’, ‘later’\n",
            "\n",
            "\n"
          ]
        }
      ]
    },
    {
      "cell_type": "code",
      "source": [
        "if (file.exists(\"/usr/local/lib/python3.7/dist-packages/google/colab/_ipython.py\")) {\n",
        "  install.packages(\"R.utils\")\n",
        "  library(\"R.utils\")\n",
        "  library(\"httr\")\n",
        "  my_check <- function() {return(TRUE)}\n",
        "  reassignInPackage(\"is_interactive\", pkgName = \"httr\", my_check) \n",
        "  options(rlang_interactive=TRUE)\n",
        "}"
      ],
      "metadata": {
        "id": "fOlAFjUDYXZf"
      },
      "execution_count": null,
      "outputs": []
    },
    {
      "cell_type": "code",
      "source": [
        "# authorize google drive\n",
        "drive_auth(\n",
        "  email = gargle::gargle_oauth_email(),\n",
        "  path = NULL,\n",
        "  scopes = \"https://www.googleapis.com/auth/drive\",\n",
        "  cache = gargle::gargle_oauth_cache(),\n",
        "  use_oob = gargle::gargle_oob_default(),\n",
        "  token = NULL\n",
        ")"
      ],
      "metadata": {
        "colab": {
          "base_uri": "https://localhost:8080/",
          "height": 526
        },
        "id": "dbz0R0fYX0-y",
        "outputId": "9608bdea-123c-4253-a669-4fca0cae2034"
      },
      "execution_count": null,
      "outputs": [
        {
          "output_type": "stream",
          "name": "stderr",
          "text": [
            "Warning message:\n",
            "“\u001b[1m\u001b[22mIt is very unusual to provide both `email` and `path` to `drive_auth()`.\n",
            "They relate to two different auth methods.\n",
            "The `path` argument is only for a service account token.\n",
            "If you need to specify your own OAuth client, use `drive_auth_configure()`.”\n"
          ]
        },
        {
          "output_type": "error",
          "ename": "ERROR",
          "evalue": "ignored",
          "traceback": [
            "\u001b[1m\u001b[33mError\u001b[39m in `drive_auth()`:\u001b[22m\n\u001b[1m\u001b[22m\u001b[33m!\u001b[39m Can't get Google credentials.\n\u001b[36mℹ\u001b[39m Are you running \u001b[34mgoogledrive\u001b[39m in a non-interactive session? Consider:\n\u001b[36m•\u001b[39m Call `drive_deauth()` to prevent the attempt to get credentials.\n\u001b[36m•\u001b[39m Call `drive_auth()` directly with all necessary specifics.\n\u001b[36mℹ\u001b[39m See gargle's \"Non-interactive auth\" vignette for more details:\n\u001b[36mℹ\u001b[39m \u001b[3m\u001b[34m<https://gargle.r-lib.org/articles/non-interactive-auth.html>\u001b[39m\u001b[23m\nTraceback:\n",
            "1. drive_auth(email = gargle::gargle_oauth_email(), path = NULL, \n .     scopes = \"https://www.googleapis.com/auth/drive\", cache = gargle::gargle_oauth_cache(), \n .     use_oob = gargle::gargle_oob_default(), token = NULL)",
            "2. drive_abort(c(\"Can't get Google credentials.\", i = \"Are you running {.pkg googledrive} in a non-interactive session? \\\\\\n             Consider:\", \n .     `*` = \"Call {.fun drive_deauth} to prevent the attempt to get credentials.\", \n .     `*` = \"Call {.fun drive_auth} directly with all necessary specifics.\", \n .     i = \"See gargle's \\\"Non-interactive auth\\\" vignette for more details:\", \n .     i = \"{.url https://gargle.r-lib.org/articles/non-interactive-auth.html}\"))",
            "3. cli::cli_abort(message = message, ..., .envir = .envir)",
            "4. rlang::abort(message, ..., call = call, use_cli_format = TRUE, \n .     .frame = .frame)",
            "5. signal_abort(cnd, .file)"
          ]
        }
      ]
    },
    {
      "cell_type": "code",
      "source": [
        "drive_auth(use_oob = TRUE, cache = TRUE)"
      ],
      "metadata": {
        "id": "oIxM9QvvS1n5"
      },
      "execution_count": null,
      "outputs": []
    },
    {
      "cell_type": "code",
      "source": [
        "zip_file <- drive_get(\"gplus.tar.gz\")"
      ],
      "metadata": {
        "id": "EKME8o_ZS3W5"
      },
      "execution_count": null,
      "outputs": []
    },
    {
      "cell_type": "code",
      "source": [
        "drive_download(zip_file,overwrite = 1)"
      ],
      "metadata": {
        "id": "lhZaXRKVS_y7"
      },
      "execution_count": null,
      "outputs": []
    },
    {
      "cell_type": "code",
      "source": [
        "untar('gplus.tar.gz')"
      ],
      "metadata": {
        "id": "FRyWGsh2S_4T"
      },
      "execution_count": null,
      "outputs": []
    },
    {
      "cell_type": "code",
      "source": [
        "file_path =\"gplus/\" \n",
        "edge_files = list.files(path=file_path,pattern=\"edges\") \n",
        "circles_files = list.files(path=file_path,pattern=\"circles\")\n",
        "fts_files = list.files(path=file_path,pattern=\"feat\")\n",
        "initial_graph = list()\n",
        "final_graph = list()\n",
        "graph_circles = list()\n",
        "ego_nodes = list()"
      ],
      "metadata": {
        "id": "x5GxGkztS_7c"
      },
      "execution_count": null,
      "outputs": []
    },
    {
      "cell_type": "code",
      "source": [
        "cnt = 0\n",
        "node_names = c()\n",
        "for(i in 1:length(edge_files)){\n",
        "    # get node id\n",
        "    node = strsplit(edge_files[i],\".edges\")[[1]]\n",
        "    node_names <-c(node_names,node)\n",
        "    #print(node)\n",
        "    ego_nodes[i] = node\n",
        "    fc = file(paste(file_path,node,\".circles\",sep=\"\"),open=\"r\") \n",
        "    if(length(fc)>0){\n",
        "        file_lines <- readLines(fc)\n",
        "        if(length(file_lines)>0){\n",
        "            circles =list()\n",
        "            for(j in 1:length(file_lines)){\n",
        "                circle_users = strsplit(file_lines[j],\"\\t\")\n",
        "                circles[[j]] <- circle_users[[1]][-1]\n",
        "              }\n",
        "            # find users who have more than 2 circles\n",
        "            if(length(circles)>2){\n",
        "                cnt = cnt + 1\n",
        "                initial_graph[[i]] <- read.graph(paste(file_path,edge_files[i],sep=\"\"),format=\"ncol\",directed=TRUE)\n",
        "                graph_circles[[i]] <- circles\n",
        "                graph_nodes <- V(initial_graph[[i]])\n",
        "                print(length(graph_nodes))\n",
        "                print(node)\n",
        "                # add the core node to his neighbor list and construct the graph\n",
        "                final_graph[[i]] <- add.vertices(initial_graph[[i]],1,name=node)\n",
        "                core_index = which(V(final_graph[[i]])$name==node) \n",
        "                core_node_edges = list()\n",
        "                ### add edges connecting to this core node\n",
        "                for(k in 1:length(graph_nodes)){\n",
        "                    core_node_edges = c(core_node_edges, c(core_index, k))\n",
        "                }\n",
        "                final_graph[[i]] <- add.edges(final_graph[[i]],core_node_edges)\n",
        "            } \n",
        "        }\n",
        "    }\n",
        "    close(fc)\n",
        "}"
      ],
      "metadata": {
        "id": "o8zaLVPiTC2G"
      },
      "execution_count": null,
      "outputs": []
    },
    {
      "cell_type": "markdown",
      "source": [
        "# Question 18"
      ],
      "metadata": {
        "id": "PXTpzzl9SUUW"
      }
    },
    {
      "cell_type": "code",
      "source": [
        "cat(\"There are \", length(edge_files),\"nodes and there are \",cnt,\"personal networks\" )"
      ],
      "metadata": {
        "id": "4TXUnjNLjGDV",
        "colab": {
          "base_uri": "https://localhost:8080/"
        },
        "outputId": "6fcc3d9f-d0c1-4199-b7a4-152830568702"
      },
      "execution_count": null,
      "outputs": [
        {
          "output_type": "stream",
          "name": "stdout",
          "text": [
            "there are  12 nodes and there are  0 personal networks"
          ]
        }
      ]
    },
    {
      "cell_type": "markdown",
      "source": [
        "# Question 19"
      ],
      "metadata": {
        "id": "bPRpC8r2SVi6"
      }
    },
    {
      "cell_type": "code",
      "source": [
        "interest_node = c('109327480479767108490', '115625564993990145546','101373961279443806744')\n",
        "graph_inds = c()\n",
        "for (i in 1: length(interest_node)){\n",
        "    graph_ind <- which(node_names==interest_node[i])\n",
        "    graph_inds <- c(graph_inds, graph_ind)\n",
        "    print(graph_ind)\n",
        "    tmp_graph = final_graph[[graph_ind]]\n",
        "    hist(degree(tmp_graph, mode=\"in\"),main = paste(\"in degree for \", interest_node[i]))\n",
        "    hist(degree(tmp_graph, mode=\"out\"),main = paste(\"out degree for \", interest_node[i]))\n",
        "}"
      ],
      "metadata": {
        "id": "xXqXauYxjSYW",
        "colab": {
          "base_uri": "https://localhost:8080/",
          "height": 115
        },
        "outputId": "faf44155-dd51-4d1f-f571-e23eceb216f8"
      },
      "execution_count": null,
      "outputs": [
        {
          "output_type": "stream",
          "name": "stdout",
          "text": [
            "integer(0)\n"
          ]
        },
        {
          "output_type": "error",
          "ename": "ERROR",
          "evalue": "ignored",
          "traceback": [
            "Error in final_graph[[graph_ind]]: attempt to select less than one element in get1index\nTraceback:\n"
          ]
        }
      ]
    },
    {
      "cell_type": "markdown",
      "source": [
        "# Question 20"
      ],
      "metadata": {
        "id": "w5ZVYLHYSXaa"
      }
    },
    {
      "cell_type": "code",
      "source": [
        "#https://igraph.org/r/doc/cluster_walktrap.html\n",
        "# for 3 personal networks, extract the community structure using Walktrap\n",
        "# report the modularity scores\n",
        "# plot the communities using colors\n",
        "cluster_walktrap\n",
        "\n",
        "interest_node = c('109327480479767108490', '115625564993990145546','101373961279443806744')\n",
        "graph_inds = c()\n",
        "for (i in 1: length(interest_node)){\n",
        "    graph_ind <- which(node_names==interest_node[i])\n",
        "    graph_inds <- c(graph_inds, graph_ind)\n",
        "    print(graph_ind)\n",
        "    tmp_graph = final_graph[[graph_ind]]\n",
        "    wt <- cluster_walktrap(tmp_graph)\n",
        "    modularityWT <- modularity(wt)\n",
        "    print(sprintf(\"Modularity: %f\", modularityWT))\n",
        "    plot(wt,tmp_graph, vertex.size = 4,vertex.label = NA, main=paste(\"Coommunity Structure for Node\", i))\n",
        "}"
      ],
      "metadata": {
        "id": "_tujbdRtofH3"
      },
      "execution_count": null,
      "outputs": []
    },
    {
      "cell_type": "markdown",
      "source": [
        "# Question 22"
      ],
      "metadata": {
        "id": "42N6E_rHSbVX"
      }
    },
    {
      "cell_type": "code",
      "source": [
        "if (!require(\"igraph\")) install.packages(\"igraph\")\n",
        "library (\"igraph\")"
      ],
      "metadata": {
        "colab": {
          "base_uri": "https://localhost:8080/"
        },
        "id": "96FBdhhbLOjy",
        "outputId": "194c7f5e-0f54-4d81-d409-8dc7dc8b636a"
      },
      "execution_count": null,
      "outputs": [
        {
          "output_type": "stream",
          "name": "stderr",
          "text": [
            "Loading required package: igraph\n",
            "\n",
            "Warning message in library(package, lib.loc = lib.loc, character.only = TRUE, logical.return = TRUE, :\n",
            "“there is no package called ‘igraph’”\n",
            "Installing package into ‘/usr/local/lib/R/site-library’\n",
            "(as ‘lib’ is unspecified)\n",
            "\n",
            "\n",
            "Attaching package: ‘igraph’\n",
            "\n",
            "\n",
            "The following objects are masked from ‘package:stats’:\n",
            "\n",
            "    decompose, spectrum\n",
            "\n",
            "\n",
            "The following object is masked from ‘package:base’:\n",
            "\n",
            "    union\n",
            "\n",
            "\n"
          ]
        }
      ]
    },
    {
      "cell_type": "code",
      "source": [
        "install.packages(\"fpc\")\n",
        "library(fpc)"
      ],
      "metadata": {
        "colab": {
          "base_uri": "https://localhost:8080/"
        },
        "id": "gLSJdPn9MSmD",
        "outputId": "674a90d9-06a1-4122-ca8b-4b28313bfcfd"
      },
      "execution_count": null,
      "outputs": [
        {
          "output_type": "stream",
          "name": "stderr",
          "text": [
            "Installing package into ‘/usr/local/lib/R/site-library’\n",
            "(as ‘lib’ is unspecified)\n",
            "\n",
            "also installing the dependencies ‘modeltools’, ‘DEoptimR’, ‘mclust’, ‘flexmix’, ‘prabclus’, ‘diptest’, ‘robustbase’, ‘kernlab’\n",
            "\n",
            "\n"
          ]
        }
      ]
    },
    {
      "cell_type": "code",
      "source": [
        "circlefile <- readLines(\"gplus/109327480479767108490.circles\")\n",
        "circles = list()\n",
        "\n",
        "# Get circles\n",
        "for (j in 1:length(circlefile)) {\n",
        "    circleNodes = strsplit(circlefile[j],\"\\t\")\n",
        "    circles = c(circles, list(circleNodes[[1]][-1]))\n",
        "}\n",
        "\n",
        "# Find community assignment\n",
        "g1<-read_graph(\"gplus/109327480479767108490.edges\",format=\"ncol\",directed=TRUE)\n",
        "g1 = add.vertices(g1, nv = 1, name = \"109327480479767108490\")\n",
        "index = which(V(g1)$name==\"109327480479767108490\")\n",
        "el = c()\n",
        "for (vertex in 1:(vcount(g1) - 1)) {\n",
        "    el = c(el, c(index, vertex))\n",
        "}\n",
        "g1 = add_edges(g1, el)\n",
        "community_assignment <- walktrap.community(g1)\n",
        "\n",
        "# Compute homogeneity\n",
        "homogeneity <- cluster.stats(dist(community_assignment, method = \"euclidean\"), \n",
        "                             reference = circles, \n",
        "                             similarity = \"jaccard\")\n",
        "print(homogeneity)\n",
        "\n",
        "# Compute completeness\n",
        "completeness <- cluster.stats(dist(circles, method = \"euclidean\"), \n",
        "                              reference = community_assignment, \n",
        "                              similarity = \"jaccard\")\n",
        "print(completeness)"
      ],
      "metadata": {
        "id": "sKNvD9bmLIWY"
      },
      "execution_count": null,
      "outputs": []
    },
    {
      "cell_type": "code",
      "source": [
        "circlefile <- readLines(\"gplus/115625564993990145546.circles\")\n",
        "circles = list()\n",
        "\n",
        "# Get circles\n",
        "for (j in 1:length(circlefile)) {\n",
        "    circleNodes = strsplit(circlefile[j],\"\\t\")\n",
        "    circles = c(circles, list(circleNodes[[1]][-1]))\n",
        "}\n",
        "\n",
        "# Find community assignment\n",
        "g1<-read_graph(\"gplus/115625564993990145546.edges\",format=\"ncol\",directed=TRUE)\n",
        "g1 = add.vertices(g1, nv = 1, name = \"115625564993990145546\")\n",
        "index = which(V(g1)$name==\"115625564993990145546\")\n",
        "el = c()\n",
        "for (vertex in 1:(vcount(g1) - 1)) {\n",
        "    el = c(el, c(index, vertex))\n",
        "}\n",
        "g1 = add_edges(g1, el)\n",
        "community_assignment <- walktrap.community(g1)\n",
        "\n",
        "# Compute homogeneity\n",
        "homogeneity <- cluster.stats(dist(community_assignment, method = \"euclidean\"), \n",
        "                             reference = circles, \n",
        "                             similarity = \"jaccard\")\n",
        "print(homogeneity)\n",
        "\n",
        "# Compute completeness\n",
        "completeness <- cluster.stats(dist(circles, method = \"euclidean\"), \n",
        "                              reference = community_assignment, \n",
        "                              similarity = \"jaccard\")\n",
        "print(completeness)"
      ],
      "metadata": {
        "id": "n5ODaK28PciU"
      },
      "execution_count": null,
      "outputs": []
    },
    {
      "cell_type": "code",
      "source": [
        "circlefile <- readLines(\"gplus/101373961279443806744.circles\")\n",
        "circles = list()\n",
        "\n",
        "# Get circles\n",
        "for (j in 1:length(circlefile)) {\n",
        "    circleNodes = strsplit(circlefile[j],\"\\t\")\n",
        "    circles = c(circles, list(circleNodes[[1]][-1]))\n",
        "}\n",
        "\n",
        "# Find community assignment\n",
        "g1<-read_graph(\"gplus/101373961279443806744.edges\",format=\"ncol\",directed=TRUE)\n",
        "g1 = add.vertices(g1, nv = 1, name = \"101373961279443806744\")\n",
        "index = which(V(g1)$name==\"101373961279443806744\")\n",
        "el = c()\n",
        "for (vertex in 1:(vcount(g1) - 1)) {\n",
        "    el = c(el, c(index, vertex))\n",
        "}\n",
        "g1 = add_edges(g1, el)\n",
        "community_assignment <- walktrap.community(g1)\n",
        "\n",
        "# Compute homogeneity\n",
        "homogeneity <- cluster.stats(dist(community_assignment, method = \"euclidean\"), \n",
        "                             reference = circles, \n",
        "                             similarity = \"jaccard\")\n",
        "print(homogeneity)\n",
        "\n",
        "# Compute completeness\n",
        "completeness <- cluster.stats(dist(circles, method = \"euclidean\"), \n",
        "                              reference = community_assignment, \n",
        "                              similarity = \"jaccard\")\n",
        "print(completeness)"
      ],
      "metadata": {
        "id": "hMWCCYtUPmi9"
      },
      "execution_count": null,
      "outputs": []
    }
  ]
}